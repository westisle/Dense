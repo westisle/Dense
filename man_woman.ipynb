{
  "nbformat": 4,
  "nbformat_minor": 0,
  "metadata": {
    "colab": {
      "provenance": [],
      "authorship_tag": "ABX9TyN9Qf8cgYEROSYXTmiyxY57",
      "include_colab_link": true
    },
    "kernelspec": {
      "name": "python3",
      "display_name": "Python 3"
    },
    "language_info": {
      "name": "python"
    }
  },
  "cells": [
    {
      "cell_type": "markdown",
      "metadata": {
        "id": "view-in-github",
        "colab_type": "text"
      },
      "source": [
        "<a href=\"https://colab.research.google.com/github/westisle/Dense/blob/main/man_woman.ipynb\" target=\"_parent\"><img src=\"https://colab.research.google.com/assets/colab-badge.svg\" alt=\"Open In Colab\"/></a>"
      ]
    },
    {
      "cell_type": "code",
      "source": [
        "# ステップ1: 必要なライブラリの読み込み\n",
        "import torch\n",
        "import torch.nn as nn\n",
        "import torch.optim as optim\n",
        "import numpy as np\n",
        "import pandas as pd\n",
        "import matplotlib.pyplot as plt\n",
        "import seaborn as sns\n",
        "from sklearn.model_selection import train_test_split\n",
        "from sklearn.preprocessing import StandardScaler\n",
        "from sklearn.metrics import accuracy_score, classification_report, confusion_matrix\n",
        "\n",
        "# 日本語フォントの設定（グラフで日本語を表示するため）\n",
        "plt.rcParams['font.family'] = 'DejaVu Sans'\n",
        "\n",
        "# 乱数シードの設定（結果を再現可能にするため）\n",
        "torch.manual_seed(42)\n",
        "np.random.seed(42)\n",
        "\n",
        "print(\"ライブラリの読み込みが完了しました！\")\n",
        "print(f\"PyTorchのバージョン: {torch.__version__}\")"
      ],
      "metadata": {
        "colab": {
          "base_uri": "https://localhost:8080/"
        },
        "id": "YQ97vCnsxXOp",
        "outputId": "122f4e37-b82c-4af9-a8b0-9654e7c06bf1"
      },
      "execution_count": 1,
      "outputs": [
        {
          "output_type": "stream",
          "name": "stdout",
          "text": [
            "ライブラリの読み込みが完了しました！\n",
            "PyTorchのバージョン: 2.6.0+cu124\n"
          ]
        }
      ]
    },
    {
      "cell_type": "code",
      "source": [
        "# ステップ1.5: Google Driveのマウント\n",
        "\n",
        "from google.colab import drive\n",
        "\n",
        "# Google Driveをマウント\n",
        "drive.mount('/content/drive')"
      ],
      "metadata": {
        "colab": {
          "base_uri": "https://localhost:8080/"
        },
        "id": "_Rmf--Lw806D",
        "outputId": "f7c8b8bb-6ec8-46e3-805e-bc7674402d8b"
      },
      "execution_count": 2,
      "outputs": [
        {
          "output_type": "stream",
          "name": "stdout",
          "text": [
            "Mounted at /content/drive\n"
          ]
        }
      ]
    },
    {
      "cell_type": "code",
      "source": [
        "# ステップ2: データの読み込み\n",
        "\n",
        "import pandas as pd\n",
        "\n",
        "# CSVファイルを読み込み\n",
        "data = pd.read_csv(\"/content/drive/MyDrive/Colab Notebooks/2025_man_woman_metrics/data/man_woman_metrics.csv\")\n",
        "\n",
        "print(\"データを読み込みました！\")\n",
        "print(f\"データの大きさ: {data.shape}\")\n",
        "print()\n",
        "\n",
        "print(\"最初の5行:\")\n",
        "print(data.head())"
      ],
      "metadata": {
        "colab": {
          "base_uri": "https://localhost:8080/"
        },
        "id": "1e92NLuX8Qwb",
        "outputId": "d013abc6-4c01-45a9-933a-fa58624264b6"
      },
      "execution_count": 3,
      "outputs": [
        {
          "output_type": "stream",
          "name": "stdout",
          "text": [
            "データを読み込みました！\n",
            "データの大きさ: (200, 5)\n",
            "\n",
            "最初の5行:\n",
            "            h          w          f          p  s\n",
            "0  165.208511  56.838212  24.465345  32.566477  1\n",
            "1  181.600202  76.549683  27.606623  34.155992  1\n",
            "2  171.306928  67.956949  25.387608  33.559576  1\n",
            "3  168.105110  67.901975  24.490529  31.658905  1\n",
            "4  179.271522  78.330228  26.709178  31.935790  1\n"
          ]
        }
      ]
    },
    {
      "cell_type": "code",
      "source": [
        "# ステップ3: データの基本確認\n",
        "\n",
        "# 統計情報を表示\n",
        "print(\"=== データの統計情報 ===\")\n",
        "print(data.describe())\n",
        "print()\n",
        "\n",
        "# 性別の分布を確認\n",
        "print(\"=== 性別の分布 ===\")\n",
        "print(data['s'].value_counts())\n",
        "print(f\"男性(1): {(data['s'] == 1).sum()}人\")\n",
        "print(f\"女性(0): {(data['s'] == 0).sum()}人\")"
      ],
      "metadata": {
        "colab": {
          "base_uri": "https://localhost:8080/"
        },
        "id": "aYNsH5Fm9dgP",
        "outputId": "2e5219cc-ac02-4642-920c-4e613a563bd8"
      },
      "execution_count": 4,
      "outputs": [
        {
          "output_type": "stream",
          "name": "stdout",
          "text": [
            "=== データの統計情報 ===\n",
            "                h           w           f           p           s\n",
            "count  200.000000  200.000000  200.000000  200.000000  200.000000\n",
            "mean   165.116773   58.714489   24.443700   32.453851    0.500000\n",
            "std      8.290756   10.289953    1.416132    1.605863    0.501255\n",
            "min    145.911481   34.335583   21.071394   28.745508    0.000000\n",
            "25%    158.319567   51.339561   23.283214   31.335250    0.000000\n",
            "50%    165.626027   58.282687   24.354350   32.120604    0.500000\n",
            "75%    170.965814   66.007735   25.533023   33.600050    1.000000\n",
            "max    183.914982   89.926939   27.606623   37.776609    1.000000\n",
            "\n",
            "=== 性別の分布 ===\n",
            "s\n",
            "1    100\n",
            "0    100\n",
            "Name: count, dtype: int64\n",
            "男性(1): 100人\n",
            "女性(0): 100人\n"
          ]
        }
      ]
    },
    {
      "cell_type": "code",
      "source": [
        "# ステップ4: 先生のベースコードを準備\n",
        "\n",
        "import torch\n",
        "import torch.nn as nn\n",
        "import numpy as np\n",
        "\n",
        "# 先生から提供されたベースコード\n",
        "def relu(x):\n",
        "    x = torch.where(x > 0, x, torch.zeros_like(x))\n",
        "    return x\n",
        "\n",
        "def softmax(x):\n",
        "    x -= torch.cat([x.max(axis=1, keepdim=True).values] * x.size()[1], dim=1)\n",
        "    x_exp = torch.exp(x)\n",
        "    return x_exp/torch.cat([x_exp.sum(dim=1, keepdim=True)] * x.size()[1], dim=1)\n",
        "\n",
        "class Dense(nn.Module):  # nn.Moduleを継承する\n",
        "    def __init__(self, in_dim, out_dim, function=lambda x: x):\n",
        "        super().__init__()\n",
        "        # He Initialization\n",
        "        # in_dim: 入力の次元数、out_dim: 出力の次元数\n",
        "        self.W = nn.Parameter(torch.tensor(np.random.uniform(\n",
        "                        low=-np.sqrt(6/in_dim),\n",
        "                        high=np.sqrt(6/in_dim),\n",
        "                        size=(in_dim, out_dim)\n",
        "                    ).astype('float32')))\n",
        "        self.b = nn.Parameter(torch.tensor(np.zeros([out_dim]).astype('float32')))\n",
        "        self.function = function\n",
        "\n",
        "    def forward(self, x):  # forwardをoverride\n",
        "        return self.function(torch.matmul(x, self.W) + self.b)\n",
        "\n",
        "print(\"ベースコードの準備が完了しました！\")\n",
        "print(\"- relu関数\")\n",
        "print(\"- softmax関数\")\n",
        "print(\"- Dense層のクラス\")"
      ],
      "metadata": {
        "colab": {
          "base_uri": "https://localhost:8080/"
        },
        "id": "gXA_6CCM-V8d",
        "outputId": "8514722a-773d-4c62-9262-277051ef8c4d"
      },
      "execution_count": 5,
      "outputs": [
        {
          "output_type": "stream",
          "name": "stdout",
          "text": [
            "ベースコードの準備が完了しました！\n",
            "- relu関数\n",
            "- softmax関数\n",
            "- Dense層のクラス\n"
          ]
        }
      ]
    },
    {
      "cell_type": "code",
      "source": [
        "# ステップ5: データの前処理\n",
        "\n",
        "from sklearn.preprocessing import StandardScaler\n",
        "from sklearn.model_selection import train_test_split\n",
        "\n",
        "# 特徴量（X）と目標変数（y）に分割\n",
        "X = data[['h', 'w', 'f', 'p']].values  # 身長、体重、足長、骨盤幅\n",
        "y = data['s'].values                   # 性別\n",
        "\n",
        "print(\"=== データ分割前 ===\")\n",
        "print(f\"特徴量Xの形状: {X.shape}\")\n",
        "print(f\"目標変数yの形状: {y.shape}\")\n",
        "print(f\"Xの最初の3行:\\n{X[:3]}\")\n",
        "print(f\"yの最初の5個: {y[:5]}\")\n",
        "\n",
        "# データを訓練用とテスト用に分割（8:2の比率）\n",
        "X_train, X_test, y_train, y_test = train_test_split(X, y, test_size=0.2, random_state=42)\n",
        "\n",
        "print(\"\\n=== データ分割後 ===\")\n",
        "print(f\"訓練用X: {X_train.shape}\")\n",
        "print(f\"テスト用X: {X_test.shape}\")\n",
        "print(f\"訓練用y: {y_train.shape}\")\n",
        "print(f\"テスト用y: {y_test.shape}\")\n",
        "\n",
        "# 特徴量を標準化（平均0、標準偏差1に変換）\n",
        "scaler = StandardScaler()\n",
        "X_train_scaled = scaler.fit_transform(X_train)  # 訓練データで学習して変換\n",
        "X_test_scaled = scaler.transform(X_test)        # テストデータは変換のみ\n",
        "\n",
        "print(\"\\n=== 標準化前後の比較 ===\")\n",
        "print(\"標準化前の訓練データ（最初の3行）:\")\n",
        "print(X_train[:3])\n",
        "print(\"標準化後の訓練データ（最初の3行）:\")\n",
        "print(X_train_scaled[:3])\n",
        "\n",
        "print(f\"\\n標準化後の平均: {X_train_scaled.mean(axis=0)}\")\n",
        "print(f\"標準化後の標準偏差: {X_train_scaled.std(axis=0)}\")"
      ],
      "metadata": {
        "colab": {
          "base_uri": "https://localhost:8080/"
        },
        "id": "vPCoSj9iCouv",
        "outputId": "03dd662e-8643-4a48-efbf-dc357fd677ec"
      },
      "execution_count": 6,
      "outputs": [
        {
          "output_type": "stream",
          "name": "stdout",
          "text": [
            "=== データ分割前 ===\n",
            "特徴量Xの形状: (200, 4)\n",
            "目標変数yの形状: (200,)\n",
            "Xの最初の3行:\n",
            "[[165.2085107   56.83821248  24.46534505  32.56647662]\n",
            " [181.6002016   76.54968267  27.60662251  34.15599212]\n",
            " [171.3069284   67.9569489   25.38760759  33.55957572]]\n",
            "yの最初の5個: [1 1 1 1 1]\n",
            "\n",
            "=== データ分割後 ===\n",
            "訓練用X: (160, 4)\n",
            "テスト用X: (40, 4)\n",
            "訓練用y: (160,)\n",
            "テスト用y: (40,)\n",
            "\n",
            "=== 標準化前後の比較 ===\n",
            "標準化前の訓練データ（最初の3行）:\n",
            "[[174.0564102   56.6764049   24.76257944  34.98299451]\n",
            " [160.6908231   60.01150827  23.44701364  35.04518249]\n",
            " [177.1982239   75.27300523  26.20037999  31.27996116]]\n",
            "標準化後の訓練データ（最初の3行）:\n",
            "[[ 1.11972101 -0.22539109  0.24770799  1.61167139]\n",
            " [-0.53802075  0.10278197 -0.71835125  1.65077952]\n",
            " [ 1.50940204  1.60450817  1.30352786 -0.71705363]]\n",
            "\n",
            "標準化後の平均: [1.12673759e-14 2.08860707e-15 3.13395143e-15 9.10452269e-15]\n",
            "標準化後の標準偏差: [1. 1. 1. 1.]\n"
          ]
        }
      ]
    },
    {
      "cell_type": "code",
      "source": [
        "# ステップ6: ニューラルネットワークモデルの定義\n",
        "\n",
        "# 先生のDense層を使って全結合ニューラルネットワークを作成\n",
        "class GenderPredictionModel(nn.Module):\n",
        "    def __init__(self):\n",
        "        super().__init__()\n",
        "\n",
        "        # 全結合層を積み重ねる\n",
        "        # 入力: 4次元（身長、体重、足長、骨盤幅）\n",
        "        self.layer1 = Dense(4, 16, relu)    # 4 → 16（活性化関数：ReLU）\n",
        "        self.layer2 = Dense(16, 8, relu)    # 16 → 8（活性化関数：ReLU）\n",
        "        self.layer3 = Dense(8, 2)           # 8 → 2（活性化関数なし）\n",
        "\n",
        "    def forward(self, x):\n",
        "        # 順伝播の処理\n",
        "        x = self.layer1(x)    # 第1層\n",
        "        x = self.layer2(x)    # 第2層\n",
        "        x = self.layer3(x)    # 第3層（出力層）\n",
        "        return x\n",
        "\n",
        "# モデルを作成\n",
        "model = GenderPredictionModel()\n",
        "\n",
        "print(\"=== モデルの構造 ===\")\n",
        "print(model)\n",
        "print()\n",
        "\n",
        "# パラメータ数を確認\n",
        "total_params = sum(p.numel() for p in model.parameters())\n",
        "print(f\"総パラメータ数: {total_params}\")\n",
        "\n",
        "# テスト入力で動作確認\n",
        "test_input = torch.tensor([[1.0, 0.5, -0.2, 1.1]], dtype=torch.float32)\n",
        "test_output = model(test_input)\n",
        "print(f\"\\nテスト入力: {test_input}\")\n",
        "print(f\"モデル出力: {test_output}\")\n",
        "\n",
        "# softmaxを適用して確率に変換\n",
        "probabilities = softmax(test_output)\n",
        "print(f\"確率（softmax後）: {probabilities}\")\n",
        "print(f\"女性の確率: {probabilities[0][0]:.3f}\")\n",
        "print(f\"男性の確率: {probabilities[0][1]:.3f}\")"
      ],
      "metadata": {
        "colab": {
          "base_uri": "https://localhost:8080/"
        },
        "id": "C7mvDT6rG5XX",
        "outputId": "9ad39dbc-2af5-4beb-8ef2-29614bf6ad0c"
      },
      "execution_count": 7,
      "outputs": [
        {
          "output_type": "stream",
          "name": "stdout",
          "text": [
            "=== モデルの構造 ===\n",
            "GenderPredictionModel(\n",
            "  (layer1): Dense()\n",
            "  (layer2): Dense()\n",
            "  (layer3): Dense()\n",
            ")\n",
            "\n",
            "総パラメータ数: 234\n",
            "\n",
            "テスト入力: tensor([[ 1.0000,  0.5000, -0.2000,  1.1000]])\n",
            "モデル出力: tensor([[ 0.0924, -0.5956]], grad_fn=<AddBackward0>)\n",
            "確率（softmax後）: tensor([[0.6655, 0.3345]], grad_fn=<DivBackward0>)\n",
            "女性の確率: 0.666\n",
            "男性の確率: 0.334\n"
          ]
        }
      ]
    },
    {
      "cell_type": "code",
      "source": [
        "# ステップ6.5: 損失関数と最適化アルゴリズムの定義（GPU対応）\n",
        "\n",
        "import torch.optim as optim\n",
        "\n",
        "# GPU/CPUの自動選択\n",
        "device = torch.device('cuda' if torch.cuda.is_available() else 'cpu')\n",
        "print(f\"使用デバイス: {device}\")\n",
        "\n",
        "# モデルをデバイスに移動\n",
        "model = model.to(device)\n",
        "\n",
        "# 損失関数：クロスエントロピー損失\n",
        "criterion = nn.CrossEntropyLoss()\n",
        "\n",
        "# 最適化アルゴリズム：Adam\n",
        "optimizer = optim.Adam(model.parameters(), lr=0.001)\n",
        "\n",
        "print(\"=== 学習の準備完了 ===\")\n",
        "print(f\"損失関数: {criterion}\")\n",
        "print(f\"最適化アルゴリズム: {optimizer}\")\n",
        "print(f\"学習率: 0.001\")\n",
        "print()\n",
        "\n",
        "# データをPyTorchのTensorに変換してデバイスに移動\n",
        "X_train_tensor = torch.tensor(X_train_scaled, dtype=torch.float32).to(device)\n",
        "y_train_tensor = torch.tensor(y_train, dtype=torch.long).to(device)\n",
        "X_test_tensor = torch.tensor(X_test_scaled, dtype=torch.float32).to(device)\n",
        "y_test_tensor = torch.tensor(y_test, dtype=torch.long).to(device)\n",
        "\n",
        "print(\"=== データのTensor変換完了 ===\")\n",
        "print(f\"訓練用X: {X_train_tensor.shape}, データ型: {X_train_tensor.dtype}, デバイス: {X_train_tensor.device}\")\n",
        "print(f\"訓練用y: {y_train_tensor.shape}, データ型: {y_train_tensor.dtype}, デバイス: {y_train_tensor.device}\")\n",
        "print(f\"テスト用X: {X_test_tensor.shape}, データ型: {X_test_tensor.dtype}, デバイス: {X_test_tensor.device}\")\n",
        "print(f\"テスト用y: {y_test_tensor.shape}, データ型: {y_test_tensor.dtype}, デバイス: {y_test_tensor.device}\")\n",
        "print()\n",
        "\n",
        "# 損失関数のテスト\n",
        "with torch.no_grad():  # 勾配計算を無効にして確認\n",
        "    test_output = model(X_train_tensor[:5])  # 最初の5サンプル\n",
        "    test_loss = criterion(test_output, y_train_tensor[:5])\n",
        "    print(f\"初期損失（5サンプル）: {test_loss:.4f}\")"
      ],
      "metadata": {
        "colab": {
          "base_uri": "https://localhost:8080/"
        },
        "id": "joZZWoErKFYV",
        "outputId": "f9197dd0-dd11-4d36-d773-46b70d7f156d"
      },
      "execution_count": 8,
      "outputs": [
        {
          "output_type": "stream",
          "name": "stdout",
          "text": [
            "使用デバイス: cpu\n",
            "=== 学習の準備完了 ===\n",
            "損失関数: CrossEntropyLoss()\n",
            "最適化アルゴリズム: Adam (\n",
            "Parameter Group 0\n",
            "    amsgrad: False\n",
            "    betas: (0.9, 0.999)\n",
            "    capturable: False\n",
            "    differentiable: False\n",
            "    eps: 1e-08\n",
            "    foreach: None\n",
            "    fused: None\n",
            "    lr: 0.001\n",
            "    maximize: False\n",
            "    weight_decay: 0\n",
            ")\n",
            "学習率: 0.001\n",
            "\n",
            "=== データのTensor変換完了 ===\n",
            "訓練用X: torch.Size([160, 4]), データ型: torch.float32, デバイス: cpu\n",
            "訓練用y: torch.Size([160]), データ型: torch.int64, デバイス: cpu\n",
            "テスト用X: torch.Size([40, 4]), データ型: torch.float32, デバイス: cpu\n",
            "テスト用y: torch.Size([40]), データ型: torch.int64, デバイス: cpu\n",
            "\n",
            "初期損失（5サンプル）: 1.1233\n"
          ]
        }
      ]
    },
    {
      "cell_type": "code",
      "source": [
        "# ステップ7: 学習ループの実行\n",
        "\n",
        "# 学習の設定\n",
        "num_epochs = 100  # 学習回数\n",
        "train_losses = []  # 損失の記録用\n",
        "\n",
        "print(\"=== 学習開始 ===\")\n",
        "\n",
        "for epoch in range(num_epochs):\n",
        "    # 1. 順伝播（予測）\n",
        "    outputs = model(X_train_tensor)\n",
        "\n",
        "    # 2. 損失計算\n",
        "    loss = criterion(outputs, y_train_tensor)\n",
        "\n",
        "    # 3. 勾配をゼロにリセット\n",
        "    optimizer.zero_grad()\n",
        "\n",
        "    # 4. 逆伝播（勾配計算）\n",
        "    loss.backward()\n",
        "\n",
        "    # 5. パラメータ更新\n",
        "    optimizer.step()\n",
        "\n",
        "    # 損失を記録\n",
        "    train_losses.append(loss.item())\n",
        "\n",
        "    # 10エポックごとに進捗表示\n",
        "    if (epoch + 1) % 10 == 0:\n",
        "        print(f\"エポック {epoch+1:3d}/{num_epochs}, 損失: {loss.item():.4f}\")\n",
        "\n",
        "print(f\"\\n学習完了！最終損失: {train_losses[-1]:.4f}\")\n"
      ],
      "metadata": {
        "colab": {
          "base_uri": "https://localhost:8080/"
        },
        "id": "AYxpScebgTv_",
        "outputId": "f0c7e40e-fb5a-4cf9-c806-bc1a378fb6a2"
      },
      "execution_count": 9,
      "outputs": [
        {
          "output_type": "stream",
          "name": "stdout",
          "text": [
            "=== 学習開始 ===\n",
            "エポック  10/100, 損失: 0.6367\n",
            "エポック  20/100, 損失: 0.5280\n",
            "エポック  30/100, 損失: 0.4456\n",
            "エポック  40/100, 損失: 0.3824\n",
            "エポック  50/100, 損失: 0.3330\n",
            "エポック  60/100, 損失: 0.2935\n",
            "エポック  70/100, 損失: 0.2607\n",
            "エポック  80/100, 損失: 0.2330\n",
            "エポック  90/100, 損失: 0.2099\n",
            "エポック 100/100, 損失: 0.1909\n",
            "\n",
            "学習完了！最終損失: 0.1909\n"
          ]
        }
      ]
    },
    {
      "cell_type": "code",
      "source": [
        "# ステップ7.5: 学習曲線をプロット\n",
        "import matplotlib.pyplot as plt\n",
        "\n",
        "plt.figure(figsize=(10, 6))\n",
        "plt.plot(train_losses)\n",
        "plt.title('Training Curve (Loss Change)')\n",
        "plt.xlabel('Epoch')\n",
        "plt.ylabel('Loss')\n",
        "plt.grid(True)\n",
        "plt.show()\n",
        "\n",
        "print(f\"初期損失: {train_losses[0]:.4f}\")\n",
        "print(f\"最終損失: {train_losses[-1]:.4f}\")\n",
        "print(f\"損失の改善: {train_losses[0] - train_losses[-1]:.4f}\")"
      ],
      "metadata": {
        "colab": {
          "base_uri": "https://localhost:8080/",
          "height": 620
        },
        "id": "9xxkjzwVhYgg",
        "outputId": "fe35584f-e43a-40bf-da35-3df40c9ea1a2"
      },
      "execution_count": 10,
      "outputs": [
        {
          "output_type": "display_data",
          "data": {
            "text/plain": [
              "<Figure size 1000x600 with 1 Axes>"
            ],
            "image/png": "[encoded data removed]"
          },
          "metadata": {}
        },
        {
          "output_type": "stream",
          "name": "stdout",
          "text": [
            "初期損失: 0.7563\n",
            "最終損失: 0.1909\n",
            "損失の改善: 0.5654\n"
          ]
        }
      ]
    },
    {
      "cell_type": "code",
      "source": [
        "# ステップ8: モデルの評価とテスト（GPU対応）\n",
        "\n",
        "import torch.nn.functional as F\n",
        "\n",
        "# 評価モードに切り替え\n",
        "model.eval()\n",
        "\n",
        "with torch.no_grad():  # 勾配計算を無効化\n",
        "    # 訓練データでの予測\n",
        "    train_outputs = model(X_train_tensor)\n",
        "    train_probabilities = F.softmax(train_outputs, dim=1)\n",
        "    train_predictions = torch.argmax(train_probabilities, dim=1)\n",
        "\n",
        "    # テストデータでの予測\n",
        "    test_outputs = model(X_test_tensor)\n",
        "    test_probabilities = F.softmax(test_outputs, dim=1)\n",
        "    test_predictions = torch.argmax(test_probabilities, dim=1)\n",
        "\n",
        "# 精度の計算\n",
        "train_accuracy = (train_predictions == y_train_tensor).float().mean()\n",
        "test_accuracy = (test_predictions == y_test_tensor).float().mean()\n",
        "\n",
        "print(\"=== モデルの性能評価 ===\")\n",
        "print(f\"訓練データの精度: {train_accuracy:.4f} ({train_accuracy*100:.2f}%)\")\n",
        "print(f\"テストデータの精度: {test_accuracy:.4f} ({test_accuracy*100:.2f}%)\")\n",
        "print()\n",
        "\n",
        "# 詳細な結果表示\n",
        "print(\"=== テストデータの予測結果（最初の10個） ===\")\n",
        "print(\"実際 | 予測 | 女性確率 | 男性確率\")\n",
        "print(\"-\" * 40)\n",
        "\n",
        "for i in range(10):\n",
        "    actual = y_test_tensor[i].item()\n",
        "    predicted = test_predictions[i].item()\n",
        "    prob_female = test_probabilities[i][0].item()\n",
        "    prob_male = test_probabilities[i][1].item()\n",
        "\n",
        "    actual_label = \"女性\" if actual == 0 else \"男性\"\n",
        "    predicted_label = \"女性\" if predicted == 0 else \"男性\"\n",
        "\n",
        "    print(f\"{actual_label:2s} | {predicted_label:2s} | {prob_female:.3f}   | {prob_male:.3f}\")\n",
        "\n",
        "# 混同行列の表示（CPUに移動してからnumpy変換）\n",
        "from sklearn.metrics import confusion_matrix, classification_report\n",
        "\n",
        "y_test_np = y_test_tensor.cpu().numpy()\n",
        "test_predictions_np = test_predictions.cpu().numpy()\n",
        "\n",
        "print(\"\\n=== 混同行列 ===\")\n",
        "cm = confusion_matrix(y_test_np, test_predictions_np)\n",
        "print(\"      予測\")\n",
        "print(\"     女性 男性\")\n",
        "print(f\"実際 女性 {cm[0][0]:2d}  {cm[0][1]:2d}\")\n",
        "print(f\"    男性 {cm[1][0]:2d}  {cm[1][1]:2d}\")\n",
        "\n",
        "print(\"\\n=== 詳細レポート ===\")\n",
        "print(classification_report(y_test_np, test_predictions_np,\n",
        "                          target_names=['女性', '男性']))"
      ],
      "metadata": {
        "colab": {
          "base_uri": "https://localhost:8080/"
        },
        "id": "n5Qk4T1iL3Wt",
        "outputId": "b07023dc-3c55-4cf7-99ab-dc232f6dedb9"
      },
      "execution_count": 11,
      "outputs": [
        {
          "output_type": "stream",
          "name": "stdout",
          "text": [
            "=== モデルの性能評価 ===\n",
            "訓練データの精度: 0.9375 (93.75%)\n",
            "テストデータの精度: 0.9500 (95.00%)\n",
            "\n",
            "=== テストデータの予測結果（最初の10個） ===\n",
            "実際 | 予測 | 女性確率 | 男性確率\n",
            "----------------------------------------\n",
            "男性 | 男性 | 0.048   | 0.952\n",
            "男性 | 男性 | 0.316   | 0.684\n",
            "男性 | 男性 | 0.163   | 0.837\n",
            "女性 | 女性 | 0.995   | 0.005\n",
            "女性 | 女性 | 1.000   | 0.000\n",
            "女性 | 女性 | 0.987   | 0.013\n",
            "男性 | 男性 | 0.366   | 0.634\n",
            "女性 | 女性 | 0.994   | 0.006\n",
            "女性 | 女性 | 0.981   | 0.019\n",
            "男性 | 女性 | 0.802   | 0.198\n",
            "\n",
            "=== 混同行列 ===\n",
            "      予測\n",
            "     女性 男性\n",
            "実際 女性 18   1\n",
            "    男性  1  20\n",
            "\n",
            "=== 詳細レポート ===\n",
            "              precision    recall  f1-score   support\n",
            "\n",
            "          女性       0.95      0.95      0.95        19\n",
            "          男性       0.95      0.95      0.95        21\n",
            "\n",
            "    accuracy                           0.95        40\n",
            "   macro avg       0.95      0.95      0.95        40\n",
            "weighted avg       0.95      0.95      0.95        40\n",
            "\n"
          ]
        }
      ]
    }
  ]
}